{
 "cells": [
  {
   "cell_type": "code",
   "execution_count": 2,
   "metadata": {},
   "outputs": [
    {
     "name": "stdout",
     "output_type": "stream",
     "text": [
      "object_detection.utils not imported\n"
     ]
    }
   ],
   "source": [
    "import os\n",
    "os.environ['CUDA_VISIBLE_DEVICES']=\"0\"\n",
    "import matplotlib.image as mpimg\n",
    "import matplotlib.pyplot as plt\n",
    "import numpy as np\n",
    "import os\n",
    "%load_ext autoreload\n",
    "%autoreload 2\n",
    "DATA_DIR='data_nuclis'\n",
    "DATA_DIR_DEV='data_nuclis_dev'\n",
    "#test_file='2tg_E98p_211a001{0}.png'\n",
    "from image_utils import *\n"
   ]
  },
  {
   "cell_type": "code",
   "execution_count": 33,
   "metadata": {},
   "outputs": [
    {
     "name": "stdout",
     "output_type": "stream",
     "text": [
      "object_detection.utils not imported\n",
      "folder data_nuclis/2tg_E103p_223a001\n",
      "folder data_nuclis_dev/2tg_E98p_224a001\n"
     ]
    }
   ],
   "source": [
    "generate_images_folder(DATA_DIR)\n",
    "generate_images_folder(DATA_DIR_DEV)"
   ]
  },
  {
   "cell_type": "code",
   "execution_count": 37,
   "metadata": {},
   "outputs": [
    {
     "name": "stdout",
     "output_type": "stream",
     "text": [
      "object_detection.utils not imported\n"
     ]
    },
    {
     "data": {
      "text/plain": [
       "['12', '0']"
      ]
     },
     "execution_count": 37,
     "metadata": {},
     "output_type": "execute_result"
    }
   ],
   "source": [
    "get_py_px('cl1_2tg_E103p_223a001_00000_12_0_0_0.png')"
   ]
  },
  {
   "cell_type": "code",
   "execution_count": 21,
   "metadata": {},
   "outputs": [
    {
     "name": "stdout",
     "output_type": "stream",
     "text": [
      "df data_nuclis/2tg_E103p_223a001/2tg_E103p_223a001{0}.png\n",
      "folder data_nuclis/2tg_E103p_223a001 0 0\n",
      "folder data_nuclis/2tg_E103p_223a001 0 1\n",
      "folder data_nuclis/2tg_E103p_223a001 1 0\n",
      "folder data_nuclis/2tg_E103p_223a001 1 1\n",
      "df data_nuclis/2tg_E98p_224a001/2tg_E98p_224a001{0}.png\n",
      "folder data_nuclis/2tg_E98p_224a001 0 0\n",
      "folder data_nuclis/2tg_E98p_224a001 0 1\n",
      "folder data_nuclis/2tg_E98p_224a001 1 0\n",
      "folder data_nuclis/2tg_E98p_224a001 1 1\n"
     ]
    }
   ],
   "source": [
    "generate_images_folder_v2(DATA_DIR)\n",
    "#generate_images_folder_v2(DATA_DIR_DEV)"
   ]
  },
  {
   "cell_type": "code",
   "execution_count": 3,
   "metadata": {},
   "outputs": [],
   "source": [
    "X_train,Y_train,file_names_train,PY_train,PX_train=get_images_data(DATA_DIR)\n",
    "X_dev,Y_dev,file_names_dev,PY_dev,PX_dev=get_images_data(DATA_DIR_DEV)"
   ]
  },
  {
   "cell_type": "code",
   "execution_count": 43,
   "metadata": {},
   "outputs": [
    {
     "data": {
      "text/plain": [
       "(1, 7424)"
      ]
     },
     "execution_count": 43,
     "metadata": {},
     "output_type": "execute_result"
    }
   ],
   "source": [
    "PY_dev.shape"
   ]
  },
  {
   "cell_type": "code",
   "execution_count": 1,
   "metadata": {},
   "outputs": [
    {
     "ename": "NameError",
     "evalue": "name 'X_train' is not defined",
     "output_type": "error",
     "traceback": [
      "\u001b[0;31m---------------------------------------------------------------------------\u001b[0m",
      "\u001b[0;31mNameError\u001b[0m                                 Traceback (most recent call last)",
      "\u001b[0;32m<ipython-input-1-c45a802b4d7f>\u001b[0m in \u001b[0;36m<module>\u001b[0;34m()\u001b[0m\n\u001b[1;32m      3\u001b[0m \u001b[0mTRAIN_FILE\u001b[0m\u001b[0;34m=\u001b[0m\u001b[0;34m'data_nuclis/2tg_E103p_223a001/2tg_E103p_223a001.png'\u001b[0m\u001b[0;34m\u001b[0m\u001b[0m\n\u001b[1;32m      4\u001b[0m \u001b[0;34m\u001b[0m\u001b[0m\n\u001b[0;32m----> 5\u001b[0;31m \u001b[0mnx\u001b[0m\u001b[0;34m=\u001b[0m\u001b[0mX_train\u001b[0m\u001b[0;34m.\u001b[0m\u001b[0mshape\u001b[0m\u001b[0;34m[\u001b[0m\u001b[0;36m0\u001b[0m\u001b[0;34m]\u001b[0m\u001b[0;34m\u001b[0m\u001b[0m\n\u001b[0m\u001b[1;32m      6\u001b[0m \u001b[0mnum_classes\u001b[0m\u001b[0;34m=\u001b[0m\u001b[0;36m1\u001b[0m\u001b[0;34m\u001b[0m\u001b[0m\n\u001b[1;32m      7\u001b[0m \u001b[0mX\u001b[0m \u001b[0;34m=\u001b[0m \u001b[0mtf\u001b[0m\u001b[0;34m.\u001b[0m\u001b[0mplaceholder\u001b[0m\u001b[0;34m(\u001b[0m\u001b[0mtf\u001b[0m\u001b[0;34m.\u001b[0m\u001b[0mfloat32\u001b[0m\u001b[0;34m,\u001b[0m \u001b[0;34m[\u001b[0m\u001b[0mnx\u001b[0m\u001b[0;34m,\u001b[0m\u001b[0mNone\u001b[0m\u001b[0;34m]\u001b[0m\u001b[0;34m,\u001b[0m\u001b[0mname\u001b[0m\u001b[0;34m=\u001b[0m\u001b[0;34m\"X\"\u001b[0m\u001b[0;34m)\u001b[0m\u001b[0;34m\u001b[0m\u001b[0m\n",
      "\u001b[0;31mNameError\u001b[0m: name 'X_train' is not defined"
     ]
    }
   ],
   "source": [
    "import tensorflow as tf\n",
    "DEV_FILE='data_nuclis_dev/2tg_E98p_224a001/2tg_E98p_224a001.png'\n",
    "TRAIN_FILE='data_nuclis/2tg_E103p_223a001/2tg_E103p_223a001.png'\n",
    "\n",
    "nx=X_train.shape[0]\n",
    "num_classes=1\n",
    "X = tf.placeholder(tf.float32, [nx,None],name=\"X\")\n",
    "W = tf.Variable(tf.zeros([num_classes, nx]),name=\"W\")\n",
    "b = tf.Variable(tf.zeros([num_classes,1]),name=\"b\")\n",
    "Z = tf.matmul(W, X) + b\n",
    "Ypred=tf.sigmoid(Z)\n",
    "Y = tf.placeholder(tf.float32, [num_classes, None])\n",
    "cost=tf.reduce_mean(tf.nn.sigmoid_cross_entropy_with_logits(logits = tf.transpose(Z),  labels = tf.transpose(Y)))#+tf.nn.l2_loss(W)\n",
    "train_step = tf.train.GradientDescentOptimizer(0.001).minimize(cost)\n",
    "correct_prediction = tf.equal(Y, tf.cast(tf.greater(Ypred,0.5),\"float\"))\n",
    "accuracy = tf.reduce_mean(tf.cast(correct_prediction, \"float\"))\n",
    "patches_dev,slices_dev=patches_of_image(DEV_FILE,40,40)\n",
    "patches_train,slices_train=patches_of_image(TRAIN_FILE,40,40)\n",
    "with tf.Session() as sess:\n",
    "    tf.global_variables_initializer().run()\n",
    "    for i in range(100):\n",
    "        _,j,a=sess.run([train_step,cost,accuracy],feed_dict={X:X_train,Y:Y_train})\n",
    "        print i,\"train\",j,a\n",
    "        print i,\"test\",sess.run([cost,accuracy],feed_dict={X:X_dev,Y:Y_dev})\n",
    "    Ydev=sess.run(Ypred,feed_dict={X:patches_dev})\n",
    "    Ytrain=sess.run(Ypred,feed_dict={X:patches_train})\n",
    "    draw_rectangles(DEV_FILE,filter_rectangles(slices_dev[Ydev>=0.5],10))\n",
    "    draw_rectangles(TRAIN_FILE,filter_rectangles(slices_train[Ytrain>=0.5],10))"
   ]
  },
  {
   "cell_type": "code",
   "execution_count": 3,
   "metadata": {
    "scrolled": true
   },
   "outputs": [
    {
     "name": "stdout",
     "output_type": "stream",
     "text": [
      "0 train 8.86087 0.489089\n",
      "0 test [8.5396442, 0.6982758]\n",
      "100 train 7.73098 0.910271\n",
      "100 test [7.7137432, 0.90660912]\n",
      "200 train 7.23465 0.942814\n",
      "200 test [7.3099766, 0.90708804]\n",
      "300 train 6.82512 0.946012\n",
      "300 test [6.9223347, 0.90996158]\n",
      "400 train 6.44129 0.948269\n",
      "400 test [6.556386, 0.90660906]\n",
      "500 train 6.07961 0.951467\n",
      "500 test [6.2025352, 0.91187727]\n",
      "600 train 5.73843 0.956922\n",
      "600 test [5.8697162, 0.91618764]\n",
      "700 train 5.41629 0.959932\n",
      "700 test [5.5567245, 0.92073745]\n",
      "800 train 5.11234 0.965199\n",
      "800 test [5.262063, 0.9243294]\n",
      "900 train 4.82514 0.970843\n",
      "900 test [4.9917488, 0.92768186]\n",
      "1000 train 4.557 0.975545\n",
      "1000 test [4.7285337, 0.93199223]\n",
      "1100 train 4.30599 0.975922\n",
      "1100 test [4.4800267, 0.9363026]\n",
      "1200 train 4.07018 0.978179\n",
      "1200 test [4.2670331, 0.93103439]\n",
      "1300 train 3.84625 0.983634\n",
      "1300 test [4.042295, 0.93582368]\n",
      "1400 train 3.63626 0.983634\n",
      "1400 test [3.844888, 0.9370209]\n",
      "1500 train 3.4418 0.985892\n",
      "1500 test [3.6526983, 0.93941557]\n",
      "1600 train 3.25677 0.987396\n",
      "1600 test [3.4680209, 0.9398945]\n",
      "1700 train 3.08415 0.988149\n",
      "1700 test [3.3062878, 0.94013399]\n",
      "1800 train 2.9231 0.988713\n",
      "1800 test [3.1464145, 0.93965507]\n",
      "1900 train 2.76715 0.992664\n",
      "1900 test [3.0124249, 0.93606311]\n",
      "2000 train 2.62369 0.991347\n",
      "2000 test [2.8638825, 0.93965507]\n",
      "2100 train 2.48948 0.992476\n",
      "2100 test [2.7244775, 0.94204962]\n",
      "2200 train 2.3637 0.993604\n",
      "2200 test [2.6060307, 0.94204968]\n",
      "2300 train 2.24351 0.994545\n",
      "2300 test [2.4901991, 0.94228917]\n",
      "2400 train 2.13126 0.99304\n",
      "2400 test [2.3778839, 0.9427681]\n",
      "2500 train 2.02491 0.995485\n",
      "2500 test [2.279412, 0.93869716]\n",
      "2600 train 1.92398 0.994921\n",
      "2600 test [2.1788955, 0.94109178]\n",
      "2700 train 1.82875 0.995862\n",
      "2700 test [2.0943129, 0.9382183]\n",
      "2800 train 1.74136 0.99605\n",
      "2800 test [2.0145569, 0.9379788]\n",
      "2900 train 1.6589 0.994921\n",
      "2900 test [1.9252069, 0.93965501]\n"
     ]
    }
   ],
   "source": [
    "import tensorflow as tf\n",
    "DEV_FILE='data_nuclis_dev/2tg_E98p_224a001/2tg_E98p_224a001.png'\n",
    "TRAIN_FILE='data_nuclis/2tg_E103p_223a001/2tg_E103p_223a001.png'\n",
    "NUM_EPOCHS=3000\n",
    "\n",
    "nx=X_train.shape[0]\n",
    "num_classes=1\n",
    "num_hidden1=4000\n",
    "num_hidden2=500\n",
    "with tf.variable_scope('test02') as scope:\n",
    "    X = tf.placeholder(tf.float32, [nx,None],name=\"X\")\n",
    "    keep_prob = tf.placeholder(tf.float32)\n",
    "    W1 = tf.get_variable(\"W1\", [num_hidden1,nx], initializer = tf.contrib.layers.xavier_initializer(seed = 1),dtype=tf.float32)\n",
    "    b1 = tf.get_variable(\"b1\",dtype=tf.float32,initializer=tf.constant(np.zeros((num_hidden1,1)),dtype=tf.float32))\n",
    "    W2 = tf.get_variable(\"W2\", [num_hidden2,num_hidden1], initializer = tf.contrib.layers.xavier_initializer(seed = 1),dtype=tf.float32)\n",
    "    b2 = tf.get_variable(\"b2\",dtype=tf.float32,initializer=tf.constant(np.zeros((num_hidden2,1)),dtype=tf.float32))\n",
    "    W3 = tf.get_variable(\"W3\", [num_classes,num_hidden2], initializer = tf.contrib.layers.xavier_initializer(seed = 1),dtype=tf.float32)\n",
    "    b3 = tf.get_variable(\"b3\",dtype=tf.float32,initializer=tf.constant(np.zeros((num_classes,1)),dtype=tf.float32))\n",
    "    Z1 = tf.matmul(W1, X) + b1\n",
    "    A1=tf.nn.dropout(tf.nn.relu(Z1),keep_prob)\n",
    "    Z2 = tf.matmul(W2, A1) + b2\n",
    "    A2=tf.nn.dropout(tf.nn.relu(Z2),keep_prob)\n",
    "    Z3 = tf.matmul(W3,A2)+b3\n",
    "    Ypred=tf.sigmoid(Z3)\n",
    "    Y = tf.placeholder(tf.float32, [num_classes, None])\n",
    "    regul=tf.nn.l2_loss(W1)+tf.nn.l2_loss(W2)+tf.nn.l2_loss(W3)\n",
    "    cost=tf.reduce_mean(tf.nn.sigmoid_cross_entropy_with_logits(logits = tf.transpose(Z3),  labels = tf.transpose(Y)))+0.003*regul\n",
    "    #train_step = tf.train.GradientDescentOptimizer(0.001).minimize(cost)\n",
    "    train_step = tf.train.AdamOptimizer(0.00001).minimize(cost)\n",
    "    correct_prediction = tf.equal(Y, tf.cast(tf.greater(Ypred,0.5),\"float\"))\n",
    "    accuracy = tf.reduce_mean(tf.cast(correct_prediction, \"float\"))\n",
    "patches_dev,slices_dev=patches_of_image(DEV_FILE,40,40)\n",
    "patches_train,slices_train=patches_of_image(TRAIN_FILE,40,40)\n",
    "with tf.Session() as sess:\n",
    "    tf.global_variables_initializer().run()\n",
    "    for i in range(NUM_EPOCHS):\n",
    "        _,j,a=sess.run([train_step,cost,accuracy],feed_dict={X:X_train,Y:Y_train,keep_prob:0.5})\n",
    "        if i%100==0:\n",
    "            print i,\"train\",j,a\n",
    "            print i,\"test\",sess.run([cost,accuracy],feed_dict={X:X_dev,Y:Y_dev,keep_prob:1.})\n",
    "            Ydev=sess.run(Ypred,feed_dict={X:patches_dev,keep_prob:1.})\n",
    "            Ytrain=sess.run(Ypred,feed_dict={X:patches_train,keep_prob:1.})\n",
    "            draw_rectangles(DEV_FILE,filter_rectangles(slices_dev[Ydev>=0.5],30))\n",
    "            draw_rectangles(TRAIN_FILE,filter_rectangles(slices_train[Ytrain>=0.5],20))\n",
    "        #if i==2000:\n",
    "        #    print \"Canviant train_step\"\n",
    "        #    train_step=tf.train.GradientDescentOptimizer(0.0001).minimize(cost)"
   ]
  },
  {
   "cell_type": "code",
   "execution_count": 13,
   "metadata": {},
   "outputs": [
    {
     "data": {
      "text/plain": [
       "[3, 4]"
      ]
     },
     "execution_count": 13,
     "metadata": {},
     "output_type": "execute_result"
    }
   ],
   "source": [
    "s=slice(3,5)\n",
    "range(10)[s]"
   ]
  },
  {
   "cell_type": "code",
   "execution_count": null,
   "metadata": {},
   "outputs": [
    {
     "name": "stdout",
     "output_type": "stream",
     "text": [
      "0 train 23.9162 0.5725 78.202 99.9154\n",
      "0 test [5.3932381, 0.7025001, 13.922648, 16.790409]\n",
      "0 train 15.5374 0.511 49.106 51.8721\n",
      "0 test [3.2675374, 0.72500002, 14.10957, 12.970984]\n",
      "0 train 13.4475 0.5165 43.132 48.7512\n",
      "0 test [5.7725801, 0.29300001, 14.295765, 22.374033]\n",
      "0 train 17.2969 0.4975 52.6165 72.1675\n",
      "0 test [7.5116644, 0.32303369, 19.21022, 26.143927]\n",
      "10 train 5.46746 0.731 20.6362 23.3415\n",
      "10 test [2.9367003, 0.83050001, 12.68915, 11.909973]\n",
      "10 train 5.42044 0.742 21.6828 22.9075\n",
      "10 test [3.0129054, 0.82849997, 13.209654, 11.316304]\n",
      "10 train 5.11409 0.744 18.8966 22.7553\n",
      "10 test [2.8397169, 0.81850004, 11.820564, 11.086817]\n",
      "10 train 5.70109 0.746 23.4665 23.8075\n",
      "10 test [3.0181255, 0.83356744, 13.425144, 11.878214]\n",
      "20 train 4.22969 0.8225 18.394 18.5201\n",
      "20 test [2.8868718, 0.84500009, 12.761957, 11.708898]\n",
      "20 train 4.27465 0.82 18.62 18.7589\n",
      "20 test [2.9635694, 0.83399999, 13.2512, 11.21452]\n",
      "20 train 4.02581 0.829 16.6582 18.3885\n",
      "20 test [2.7704153, 0.83400011, 11.842934, 10.905579]\n",
      "20 train 4.70918 0.817 20.2773 21.4451\n",
      "20 test [2.9354613, 0.84550571, 13.424774, 11.723553]\n",
      "30 train 3.80099 0.8525 17.1529 17.4175\n",
      "30 test [2.7622008, 0.87000006, 12.807547, 11.623217]\n",
      "30 train 3.77981 0.8645 17.3355 17.118\n",
      "30 test [2.8055015, 0.85050005, 13.265681, 11.16817]\n",
      "30 train 3.68489 0.858 15.9067 17.3781\n",
      "30 test [2.6237214, 0.85550004, 11.926613, 10.797369]\n",
      "30 train 4.20204 0.8625 19.0221 19.5881\n",
      "30 test [2.8269558, 0.86235952, 13.424107, 11.760301]\n",
      "40 train 3.66386 0.8885 16.8549 17.0254\n",
      "40 test [2.7014847, 0.89150006, 12.835105, 11.599837]\n",
      "40 train 3.61313 0.88 16.8678 16.5538\n",
      "40 test [2.7250762, 0.87600011, 13.29123, 11.110765]\n",
      "40 train 3.45733 0.8955 15.4195 16.6309\n",
      "40 test [2.5510209, 0.87449998, 11.982498, 10.741681]\n",
      "40 train 4.01535 0.8895 18.5274 19.0837\n",
      "40 test [2.78373, 0.87921357, 13.473501, 11.781681]\n",
      "50 train 3.52855 0.897 16.4384 16.4265\n",
      "50 test [2.6858258, 0.89950007, 12.860896, 11.600965]\n",
      "50 train 3.52136 0.906 16.632 16.201\n",
      "50 test [2.7064762, 0.8865, 13.283873, 11.110275]\n",
      "50 train 3.39344 0.9145 15.2316 16.4373\n",
      "50 test [2.5374968, 0.88400006, 12.02127, 10.757279]\n",
      "50 train 3.91709 0.9035 18.0847 18.7713\n",
      "50 test [2.7723079, 0.89044946, 13.50807, 11.807481]\n",
      "60 train 3.4687 0.9105 16.2262 16.2715\n",
      "60 test [2.6721044, 0.90300012, 12.912453, 11.563345]\n",
      "60 train 3.50567 0.9115 16.6773 16.1547\n",
      "60 test [2.6862855, 0.89400005, 13.258693, 11.103706]\n",
      "60 train 3.30636 0.915 14.9577 16.0183\n",
      "60 test [2.5324876, 0.89200008, 12.128553, 10.750897]\n",
      "60 train 3.8371 0.9125 17.9544 18.2739\n",
      "60 test [2.7700415, 0.8960675, 13.557747, 11.824857]\n",
      "70 train 3.40122 0.909 15.8781 16.0251\n",
      "70 test [2.6578043, 0.90700006, 12.895578, 11.565813]\n",
      "70 train 3.40221 0.9165 16.1229 15.8388\n",
      "70 test [2.6815126, 0.90250003, 13.29096, 11.143941]\n",
      "70 train 3.26098 0.9265 14.6898 15.9499\n",
      "70 test [2.5189345, 0.89700007, 12.089358, 10.767312]\n",
      "70 train 3.8025 0.9245 17.8414 18.253\n",
      "70 test [2.7692552, 0.90870786, 13.606876, 11.903225]\n",
      "80 train 3.33256 0.9145 15.7414 15.5413\n",
      "80 test [2.6526437, 0.91000003, 12.914179, 11.581782]\n",
      "80 train 3.35258 0.9185 15.9514 15.6023\n",
      "80 test [2.6827879, 0.903, 13.347918, 11.154977]\n",
      "80 train 3.17207 0.9255 14.2768 15.5963\n",
      "80 test [2.5288579, 0.89650011, 12.209303, 10.786951]\n",
      "80 train 3.74076 0.925 17.4961 17.9885\n",
      "80 test [2.7756491, 0.91292137, 13.657304, 11.977523]\n",
      "90 train 3.31188 0.923 15.5836 15.5901\n",
      "90 test [2.6539516, 0.91400009, 12.891403, 11.656117]\n",
      "90 train 3.29134 0.916 15.4756 15.4549\n",
      "90 test [2.6887484, 0.90750003, 13.373896, 11.212893]\n",
      "90 train 3.13613 0.9265 14.1159 15.447\n",
      "90 test [2.5209839, 0.90300006, 12.165937, 10.83432]\n",
      "90 train 3.68973 0.9285 17.065 18.0236\n",
      "90 test [2.7775595, 0.91643262, 13.66254, 12.062585]\n",
      "100 train 3.20341 0.9175 14.9096 15.2526\n",
      "100 test [2.6415339, 0.91700011, 12.921135, 11.617336]\n",
      "100 train 3.22435 0.931 15.0547 15.3344\n",
      "100 test [2.6911473, 0.91250002, 13.458945, 11.226671]\n",
      "100 train 3.06778 0.9315 13.8085 15.1411\n",
      "100 test [2.5280042, 0.90800005, 12.270241, 10.863583]\n",
      "100 train 3.58958 0.932 16.6976 17.5275\n",
      "100 test [2.7991304, 0.91994381, 13.808167, 12.157882]\n",
      "110 train 3.14429 0.9245 14.6739 14.9536\n",
      "110 test [2.643285, 0.92250007, 12.973601, 11.683451]\n",
      "110 train 3.11374 0.9295 14.4222 15.0326\n",
      "110 test [2.6984475, 0.91700011, 13.521179, 11.316586]\n",
      "110 train 3.00401 0.9335 13.458 14.9705\n",
      "110 test [2.5319667, 0.91600001, 12.342631, 10.909328]\n",
      "110 train 3.55168 0.9345 16.4619 17.4356\n",
      "110 test [2.8103025, 0.92205054, 13.873006, 12.26557]\n",
      "120 train 3.09411 0.925 14.5227 14.7191\n",
      "120 test [2.6473858, 0.92350006, 13.010136, 11.699257]\n",
      "120 train 3.09645 0.929 14.457 14.7184\n",
      "120 test [2.7048421, 0.91700006, 13.581862, 11.36439]\n",
      "120 train 2.94887 0.9345 13.2828 14.552\n",
      "120 test [2.5494561, 0.92150003, 12.471334, 11.007472]\n",
      "120 train 3.46051 0.9315 15.8877 17.0994\n",
      "120 test [2.8230519, 0.92415732, 14.000674, 12.319246]\n",
      "130 train 3.03212 0.9305 14.0913 14.5463\n",
      "130 test [2.6560197, 0.9295001, 13.075225, 11.739391]\n",
      "130 train 3.0332 0.9325 14.0084 14.6815\n",
      "130 test [2.7245333, 0.92200005, 13.685497, 11.387544]\n",
      "130 train 2.90796 0.933 13.1015 14.3545\n",
      "130 test [2.5682776, 0.91750008, 12.545914, 11.040377]\n",
      "130 train 3.39112 0.931 15.4655 16.8463\n",
      "130 test [2.8458149, 0.92485952, 14.087344, 12.42492]\n",
      "140 train 2.92897 0.9305 13.6398 14.0858\n",
      "140 test [2.665978, 0.93200004, 13.176929, 11.779721]\n",
      "140 train 2.97503 0.931 13.5625 14.4851\n",
      "140 test [2.7336671, 0.92000008, 13.77813, 11.46657]\n",
      "140 train 2.81537 0.937 12.431 14.1625\n",
      "140 test [2.5807254, 0.9235, 12.699481, 11.095699]\n",
      "140 train 3.24414 0.9415 14.9467 16.0276\n",
      "140 test [2.869643, 0.92907298, 14.262683, 12.53656]\n",
      "150 train 2.88732 0.9355 13.4696 13.8445\n",
      "150 test [2.6843243, 0.93300009, 13.29121, 11.839679]\n",
      "150 train 2.88184 0.943 13.5379 13.86\n",
      "150 test [2.7514851, 0.92300016, 13.898244, 11.501682]\n",
      "150 train 2.75722 0.9405 11.9766 14.1741\n",
      "150 test [2.6004238, 0.92300004, 12.816899, 11.158379]\n",
      "150 train 3.2356 0.94 14.6406 16.236\n",
      "150 test [2.8958333, 0.93117982, 14.421919, 12.650348]\n",
      "160 train 2.79172 0.9275 12.7029 13.6177\n",
      "160 test [2.6985993, 0.93450004, 13.43873, 11.858657]\n",
      "160 train 2.74882 0.941 12.64 13.4457\n",
      "160 test [2.7582226, 0.92550004, 14.05674, 11.477493]\n",
      "160 train 2.67406 0.9385 11.7696 13.5475\n",
      "160 test [2.6240835, 0.92650008, 13.081007, 11.21244]\n",
      "160 train 3.1302 0.9465 14.1688 15.7959\n",
      "160 test [2.9286048, 0.93539327, 14.659914, 12.765642]\n",
      "170 train 2.69561 0.938 12.1748 13.3175\n",
      "170 test [2.713279, 0.93350005, 13.513018, 11.931263]\n",
      "170 train 2.73459 0.942 12.8766 13.0472\n",
      "170 test [2.7834172, 0.92300004, 14.189438, 11.523172]\n",
      "170 train 2.57746 0.9375 11.1661 13.1452\n",
      "170 test [2.6521382, 0.92550009, 13.193966, 11.278411]\n",
      "170 train 3.06315 0.944 13.9048 15.3972\n",
      "170 test [2.9533775, 0.9311797, 14.769832, 12.82864]\n",
      "180 train 2.66794 0.9405 12.1304 13.1188\n",
      "180 test [2.7306368, 0.93550003, 13.617136, 12.011314]\n",
      "180 train 2.64328 0.9445 12.0771 13.0175\n",
      "180 test [2.8064196, 0.92650002, 14.277149, 11.638872]\n",
      "180 train 2.54699 0.941 11.1841 12.8544\n",
      "180 test [2.6699831, 0.92250007, 13.308715, 11.352682]\n",
      "180 train 2.9953 0.9375 13.2967 15.2345\n",
      "180 test [2.9862177, 0.93188202, 14.960598, 12.969412]\n",
      "190 train 2.61445 0.9365 11.8496 12.841\n",
      "190 test [2.7460709, 0.93400002, 13.72667, 12.051568]\n",
      "190 train 2.58337 0.945 11.6315 12.8557\n",
      "190 test [2.8247523, 0.92500007, 14.417688, 11.666893]\n",
      "190 train 2.44103 0.9545 10.8009 12.303\n",
      "190 test [2.6862118, 0.92350006, 13.427254, 11.398345]\n",
      "190 train 2.91586 0.9495 12.8931 15.0131\n",
      "190 test [3.0098543, 0.93398875, 15.17467, 13.001747]\n",
      "200 train 2.48487 0.944 11.2238 12.2638\n",
      "200 test [2.7765243, 0.9345001, 13.961231, 12.130886]\n",
      "200 train 2.5165 0.948 11.3566 12.488\n",
      "200 test [2.854146, 0.92700005, 14.677946, 11.712861]\n",
      "200 train 2.3765 0.95 10.3151 12.2576\n",
      "200 test [2.7290442, 0.92700011, 13.737822, 11.519535]\n",
      "200 train 2.83026 0.9545 12.4936 14.6359\n",
      "200 test [3.0412731, 0.93750006, 15.36404, 13.134138]\n",
      "210 train 2.44836 0.9405 11.096 12.0171\n",
      "210 test [2.7914231, 0.93550003, 14.045212, 12.218426]\n",
      "210 train 2.41205 0.9465 10.8877 11.9835\n",
      "210 test [2.8676651, 0.92900002, 14.768378, 11.780345]\n",
      "210 train 2.30831 0.9545 9.93656 11.9585\n",
      "210 test [2.7441659, 0.93050003, 13.860415, 11.601033]\n",
      "210 train 2.81075 0.9495 12.4511 14.4756\n",
      "210 test [3.0774732, 0.93750006, 15.572802, 13.280472]\n"
     ]
    },
    {
     "name": "stdout",
     "output_type": "stream",
     "text": [
      "220 train 2.36451 0.9475 10.3093 12.0721\n",
      "220 test [2.8193028, 0.93650007, 14.167626, 12.344589]\n",
      "220 train 2.36407 0.9535 10.4891 11.9711\n",
      "220 test [2.9039788, 0.92950004, 14.970996, 11.910748]\n",
      "220 train 2.27561 0.951 9.78784 11.7126\n",
      "220 test [2.7725317, 0.92950004, 14.01751, 11.683309]\n",
      "220 train 2.72631 0.9485 12.0656 14.017\n",
      "220 test [3.1044834, 0.9367978, 15.7734, 13.29567]\n",
      "230 train 2.29883 0.945 10.2698 11.3993\n",
      "230 test [2.8443794, 0.93949997, 14.34376, 12.409377]\n",
      "230 train 2.32374 0.956 10.4214 11.6693\n",
      "230 test [2.9277163, 0.93050003, 15.093382, 11.9709]\n",
      "230 train 2.22952 0.959 9.67072 11.5225\n",
      "230 test [2.7957997, 0.93199998, 14.16533, 11.726377]\n",
      "230 train 2.61953 0.959 11.5843 13.4813\n",
      "230 test [3.1281333, 0.93960679, 15.922171, 13.40108]\n",
      "240 train 2.21288 0.944 9.63041 11.2643\n",
      "240 test [2.8685493, 0.93650007, 14.467112, 12.525514]\n",
      "240 train 2.24579 0.955 10.0239 11.209\n",
      "240 test [2.9555204, 0.93050003, 15.309155, 12.007408]\n",
      "240 train 2.15803 0.958 9.50578 10.9708\n",
      "240 test [2.8102739, 0.93099999, 14.184913, 11.833284]\n",
      "240 train 2.55117 0.948 11.2137 13.1855\n",
      "240 test [3.1523314, 0.94030905, 16.009739, 13.545233]\n",
      "250 train 2.14675 0.951 9.40465 10.9598\n",
      "250 test [2.8824322, 0.93950009, 14.567094, 12.554354]\n",
      "250 train 2.13512 0.9505 9.48422 10.7483\n",
      "250 test [2.9754593, 0.93150002, 15.453332, 12.052062]\n",
      "250 train 2.04121 0.955 8.96108 10.39\n",
      "250 test [2.8493342, 0.93350005, 14.510383, 11.885916]\n",
      "250 train 2.46557 0.9565 10.907 12.6577\n",
      "250 test [3.180505, 0.93750006, 16.240913, 13.552707]\n"
     ]
    }
   ],
   "source": [
    "from train import train3\n",
    "train3(X_train.T,Y_train.T,PY_train.T,PX_train.T,X_dev.T,Y_dev.T,PY_dev.T,PX_dev.T,optimizer=tf.train.AdamOptimizer(0.0001))"
   ]
  },
  {
   "cell_type": "code",
   "execution_count": 7,
   "metadata": {},
   "outputs": [
    {
     "data": {
      "text/plain": [
       "(4800, 9416)"
      ]
     },
     "execution_count": 7,
     "metadata": {},
     "output_type": "execute_result"
    }
   ],
   "source": [
    "X_train.shape"
   ]
  }
 ],
 "metadata": {
  "kernelspec": {
   "display_name": "Python [default]",
   "language": "python",
   "name": "python2"
  },
  "language_info": {
   "codemirror_mode": {
    "name": "ipython",
    "version": 2
   },
   "file_extension": ".py",
   "mimetype": "text/x-python",
   "name": "python",
   "nbconvert_exporter": "python",
   "pygments_lexer": "ipython2",
   "version": "2.7.13"
  }
 },
 "nbformat": 4,
 "nbformat_minor": 2
}
